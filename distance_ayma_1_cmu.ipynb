{
 "cells": [
  {
   "cell_type": "markdown",
   "metadata": {},
   "source": [
    "# Importación de librerias"
   ]
  },
  {
   "cell_type": "code",
   "execution_count": null,
   "metadata": {},
   "outputs": [],
   "source": [
    "from scipy.spatial.distance import cityblock, euclidean\n",
    "import numpy as np\n",
    "import pandas as pd\n",
    "from sklearn.model_selection import train_test_split\n",
    "from sklearn.svm import OneClassSVM\n",
    "from sklearn.mixture import GaussianMixture\n",
    "from scipy.spatial import distance"
   ]
  },
  {
   "cell_type": "markdown",
   "metadata": {},
   "source": [
    "# Lectura de archivo"
   ]
  },
  {
   "cell_type": "code",
   "execution_count": null,
   "metadata": {
    "scrolled": true
   },
   "outputs": [],
   "source": [
    "path = \"./data/cmu/keystroke.csv\" \n",
    "df = pd.read_csv(path)\n",
    "df.drop(['sessionIndex', 'rep'], axis=1, inplace=True)\n",
    "subjects = df[\"subject\"].unique()"
   ]
  },
  {
   "cell_type": "markdown",
   "metadata": {},
   "source": [
    "# Metodo de distancias"
   ]
  },
  {
   "cell_type": "code",
   "execution_count": null,
   "metadata": {},
   "outputs": [],
   "source": [
    "def euclideanDistance(a, b):\n",
    "    return distance.euclidean(a.values, b.values)\n",
    "    #return np.linalg.norm(a.values - b.values)\n",
    "\n",
    "def manhattanDistance(a, b):\n",
    "    return distance.cityblock(a.values, b.values)\n",
    "\n",
    "def cosDistance(a,b):\n",
    "    return distance.cosine(a.values, b.values)\n",
    "\n",
    "#Distancias a calcular\n",
    "distancesMethods = [1, 2, 3]"
   ]
  },
  {
   "cell_type": "code",
   "execution_count": null,
   "metadata": {
    "scrolled": true
   },
   "outputs": [],
   "source": [
    "df"
   ]
  },
  {
   "cell_type": "markdown",
   "metadata": {},
   "source": [
    "# Separación de la data de entrenamiento y de prueba\n",
    "Se toma de forma aleatoria el 80% de los registros de cada usuario para considerarlos como data de entrenamiento, mientras que el restante forma a pasar a la data de prueba"
   ]
  },
  {
   "cell_type": "code",
   "execution_count": null,
   "metadata": {},
   "outputs": [],
   "source": [
    "train_users = []\n",
    "test_users = []\n",
    "for subject in subjects:\n",
    "    genuine_user_data = df.loc[df[\"subject\"] == subject, :]\n",
    "            \n",
    "    imposter_data = df.loc[df[\"subject\"] != subject, :]\n",
    "\n",
    "    train, test_genuine  = train_test_split(genuine_user_data, train_size = 0.8, random_state=43, shuffle=True)\n",
    "\n",
    "    train_users.append(train)\n",
    "    test_users.append(test_genuine)\n",
    "    \n",
    "\n",
    "train_users = pd.concat(train_users)\n",
    "test_users = pd.concat(test_users)"
   ]
  },
  {
   "cell_type": "markdown",
   "metadata": {},
   "source": [
    "# Cálculo de las distancias y evaluación\n",
    "1. Se calcula la distancias entre cada vector del dataset del train con el vector del test\n",
    "2. Se escoge el vector individidual del train con la menor distancia encontrada\n",
    "3. Se chequea si el vector individidual corresponde con el usuario del test \n",
    "3. Se comienza a contar las veces que se acierta el usuario y las veces que no\n",
    "5. Se imprime los resultados"
   ]
  },
  {
   "cell_type": "code",
   "execution_count": null,
   "metadata": {},
   "outputs": [],
   "source": [
    "for distancesMethod in distancesMethods:\n",
    "    countGood = 0\n",
    "    countFalse = 0\n",
    "    \n",
    "    for i in range(test_users.shape[0]):\n",
    "        value = []\n",
    "        for j in range(train_users.shape[0]):\n",
    "            if 1 == distancesMethod:\n",
    "                value.append(euclideanDistance(train_users.iloc[j, 1:],  test_users.iloc[i, 1:]))\n",
    "            elif 2 == distancesMethod:\n",
    "                value.append(manhattanDistance(train_users.iloc[j, 1:],  test_users.iloc[i, 1:]))\n",
    "            elif 3 == distancesMethod:\n",
    "                value.append(cosDistance(train_users.iloc[j, 1:],  test_users.iloc[i, 1:]))\n",
    "        idx = np.argmin(value)\n",
    "        \n",
    "        if train_users.iloc[idx][\"subject\"] == test_users.iloc[i][\"subject\"] :\n",
    "            countGood += 1\n",
    "            #print( \"raw \"+ str(i)+ \" Total: \"+str(countGood) + \" / \" + str(test_users.shape[0]) + \"==> \" +str(round(countGood*100/test_users.shape[0],2)) + \"%\")\n",
    "        else:\n",
    "            countFalse += 1\n",
    "            #print( \"raw \"+ str(i)+ \" false\")\n",
    "            \n",
    "    print(\"----------------------------------------------------\")\n",
    "    if 1 == distancesMethod:\n",
    "        print(\"Resumen distancia euclidiana:\")\n",
    "    elif 2 == distancesMethod:\n",
    "        print(\"Resumen distancia Manhattan:\")\n",
    "    elif 3 == distancesMethod:\n",
    "        print(\"Resumen distancia Coseno:\")"
   ]
  },
  {
   "cell_type": "markdown",
   "metadata": {},
   "source": [
    "# Resultados"
   ]
  },
  {
   "cell_type": "code",
   "execution_count": null,
   "metadata": {},
   "outputs": [],
   "source": [
    "print(\"Total acertados \"+str(countGood) + \" / \" + str(test_users.shape[0]) + \"==> \" +str(round(countGood*100/test_users.shape[0],2)) + \"%\")\n",
    "print(\"Total equivocados \"+str(countFalse) + \" / \" + str(test_users.shape[0]) +\"==> \" +str(round(countFalse*100/test_users.shape[0],2)) + \"%\")"
   ]
  }
 ],
 "metadata": {
  "kernelspec": {
   "display_name": "Python 3",
   "language": "python",
   "name": "python3"
  },
  "language_info": {
   "codemirror_mode": {
    "name": "ipython",
    "version": 3
   },
   "file_extension": ".py",
   "mimetype": "text/x-python",
   "name": "python",
   "nbconvert_exporter": "python",
   "pygments_lexer": "ipython3",
   "version": "3.7.6"
  }
 },
 "nbformat": 4,
 "nbformat_minor": 4
}
