{
 "cells": [
  {
   "cell_type": "markdown",
   "metadata": {},
   "source": [
    "# Importe de librerias"
   ]
  },
  {
   "cell_type": "code",
   "execution_count": 3,
   "metadata": {},
   "outputs": [],
   "source": [
    "import os \n",
    "import numpy as np\n",
    "import pandas as pd"
   ]
  },
  {
   "cell_type": "markdown",
   "metadata": {},
   "source": [
    "# Lectura de archivos"
   ]
  },
  {
   "cell_type": "code",
   "execution_count": 1,
   "metadata": {
    "slideshow": {
     "slide_type": "-"
    }
   },
   "outputs": [
    {
     "output_type": "error",
     "ename": "KeyboardInterrupt",
     "evalue": "",
     "traceback": [
      "\u001b[1;31m---------------------------------------------------------------------------\u001b[0m",
      "\u001b[1;31mKeyboardInterrupt\u001b[0m                         Traceback (most recent call last)",
      "\u001b[1;32m<ipython-input-1-603b32bf5f7a>\u001b[0m in \u001b[0;36m<module>\u001b[1;34m\u001b[0m\n\u001b[0;32m      7\u001b[0m     \u001b[1;32mfor\u001b[0m \u001b[0mname\u001b[0m \u001b[1;32min\u001b[0m \u001b[0mfiles\u001b[0m\u001b[1;33m:\u001b[0m\u001b[1;33m\u001b[0m\u001b[1;33m\u001b[0m\u001b[0m\n\u001b[0;32m      8\u001b[0m       \u001b[1;31m#print(os.path.join(root, name))\u001b[0m\u001b[1;33m\u001b[0m\u001b[1;33m\u001b[0m\u001b[1;33m\u001b[0m\u001b[0m\n\u001b[1;32m----> 9\u001b[1;33m       \u001b[0mf\u001b[0m \u001b[1;33m=\u001b[0m \u001b[0mopen\u001b[0m\u001b[1;33m(\u001b[0m\u001b[0mos\u001b[0m\u001b[1;33m.\u001b[0m\u001b[0mpath\u001b[0m\u001b[1;33m.\u001b[0m\u001b[0mjoin\u001b[0m\u001b[1;33m(\u001b[0m\u001b[0mroot\u001b[0m\u001b[1;33m,\u001b[0m \u001b[0mname\u001b[0m\u001b[1;33m)\u001b[0m\u001b[1;33m,\u001b[0m \u001b[1;34m'rt'\u001b[0m\u001b[1;33m)\u001b[0m\u001b[1;33m\u001b[0m\u001b[1;33m\u001b[0m\u001b[0m\n\u001b[0m\u001b[0;32m     10\u001b[0m       \u001b[1;32mif\u001b[0m \u001b[0mname\u001b[0m \u001b[1;33m==\u001b[0m \u001b[1;34m\"l_rr.txt\"\u001b[0m\u001b[1;33m:\u001b[0m\u001b[1;33m\u001b[0m\u001b[1;33m\u001b[0m\u001b[0m\n\u001b[0;32m     11\u001b[0m           \u001b[0mval\u001b[0m \u001b[1;33m=\u001b[0m \u001b[0mf\u001b[0m\u001b[1;33m.\u001b[0m\u001b[0mread\u001b[0m\u001b[1;33m(\u001b[0m\u001b[1;33m)\u001b[0m\u001b[1;33m.\u001b[0m\u001b[0msplit\u001b[0m\u001b[1;33m(\u001b[0m\u001b[1;33m)\u001b[0m\u001b[1;33m\u001b[0m\u001b[1;33m\u001b[0m\u001b[0m\n",
      "\u001b[1;32m~\\anaconda3\\lib\\_bootlocale.py\u001b[0m in \u001b[0;36mgetpreferredencoding\u001b[1;34m(do_setlocale)\u001b[0m\n\u001b[0;32m      9\u001b[0m \u001b[1;33m\u001b[0m\u001b[0m\n\u001b[0;32m     10\u001b[0m \u001b[1;32mif\u001b[0m \u001b[0msys\u001b[0m\u001b[1;33m.\u001b[0m\u001b[0mplatform\u001b[0m\u001b[1;33m.\u001b[0m\u001b[0mstartswith\u001b[0m\u001b[1;33m(\u001b[0m\u001b[1;34m\"win\"\u001b[0m\u001b[1;33m)\u001b[0m\u001b[1;33m:\u001b[0m\u001b[1;33m\u001b[0m\u001b[1;33m\u001b[0m\u001b[0m\n\u001b[1;32m---> 11\u001b[1;33m     \u001b[1;32mdef\u001b[0m \u001b[0mgetpreferredencoding\u001b[0m\u001b[1;33m(\u001b[0m\u001b[0mdo_setlocale\u001b[0m\u001b[1;33m=\u001b[0m\u001b[1;32mTrue\u001b[0m\u001b[1;33m)\u001b[0m\u001b[1;33m:\u001b[0m\u001b[1;33m\u001b[0m\u001b[1;33m\u001b[0m\u001b[0m\n\u001b[0m\u001b[0;32m     12\u001b[0m         \u001b[1;32mif\u001b[0m \u001b[0msys\u001b[0m\u001b[1;33m.\u001b[0m\u001b[0mflags\u001b[0m\u001b[1;33m.\u001b[0m\u001b[0mutf8_mode\u001b[0m\u001b[1;33m:\u001b[0m\u001b[1;33m\u001b[0m\u001b[1;33m\u001b[0m\u001b[0m\n\u001b[0;32m     13\u001b[0m             \u001b[1;32mreturn\u001b[0m \u001b[1;34m'UTF-8'\u001b[0m\u001b[1;33m\u001b[0m\u001b[1;33m\u001b[0m\u001b[0m\n",
      "\u001b[1;31mKeyboardInterrupt\u001b[0m: "
     ]
    }
   ],
   "source": [
    "tempData = []\n",
    "\n",
    "for root, dirs, files in os.walk(\"./data/output_numpy/passphrases\", topdown=False):\n",
    "    tempObj = {}\n",
    "    \n",
    "    vector = []\n",
    "    for name in files:\n",
    "      #print(os.path.join(root, name))\n",
    "      f = open(os.path.join(root, name), 'rt') \n",
    "      if name == \"l_rr.txt\":\n",
    "          val = f.read().split()\n",
    "          tempObj[\"l_rr\"] = val\n",
    "          vector.extend(val)\n",
    "      elif name == \"l_total.txt\":\n",
    "          tempObj[\"l_total\"] = f.read().split()\n",
    "      elif name == \"password.txt\":\n",
    "          tempObj[\"password\"] = f.read()\n",
    "      elif name == \"p_pp.txt\":\n",
    "          val = f.read().split()\n",
    "          tempObj[\"p_pp\"] = val\n",
    "          vector.extend(val)\n",
    "      elif name == \"p_pr.txt\":\n",
    "          val =  f.read().split()\n",
    "          tempObj[\"p_pr\"] = val\n",
    "          vector.extend(val)\n",
    "\n",
    "      elif name == \"p_release_codes.txt\":\n",
    "          tempObj[\"p_release_codes\"] = f.read().split()\n",
    "      elif name == \"p_rp.txt\":\n",
    "          val = f.read().split()\n",
    "          tempObj[\"p_rp\"] = val\n",
    "          vector.extend(val)\n",
    "      elif name == \"p_rr.txt\":\n",
    "          val = f.read().split()\n",
    "          tempObj[\"p_rr\"] = val\n",
    "          vector.extend(val)\n",
    "      elif name == \"p_total.txt\":\n",
    "          tempObj[\"p_total\"] = f.read()\n",
    "      elif name == \"userid.txt\":\n",
    "          tempObj[\"userid\"] = f.read()\n",
    "          #print(tempObj)\n",
    "          tempObj[\"vector\"] = vector\n",
    "          tempData.append(tempObj)\n",
    "          tempObj = {}\n",
    "      elif name == \"date.txt\":\n",
    "          tempObj[\"date\"] = f.read()\n",
    "      elif name == \"genuine.txt\":\n",
    "          tempObj[\"genuine\"] = f.read()\n",
    "      elif name == \"login.txt\":\n",
    "          tempObj[\"login\"] = f.read()\n",
    "          \n",
    "      elif name == \"l_pp.txt\":\n",
    "          val = f.read().split()\n",
    "          tempObj[\"l_pp\"] = val\n",
    "          vector.extend(val)\n",
    "      elif name == \"l_pr.txt\":\n",
    "          val = f.read().split()\n",
    "          tempObj[\"l_pr\"] = val\n",
    "          vector.extend(val)\n",
    "      elif name == \"l_release_codes.txt\":\n",
    "          tempObj[\"l_release_codes\"] = f.read().split()\n",
    "    \n",
    "      elif name == \"l_rp.txt\":\n",
    "          val = f.read().split()\n",
    "          tempObj[\"l_rp\"] = val\n",
    "          vector.extend(val)\n",
    "      f.close()\n",
    "\n",
    "df = pd.DataFrame(tempData)"
   ]
  },
  {
   "cell_type": "markdown",
   "metadata": {
    "slideshow": {
     "slide_type": "-"
    }
   },
   "source": [
    "# Estructura de dataframe sin procesar"
   ]
  },
  {
   "cell_type": "code",
   "execution_count": null,
   "metadata": {},
   "outputs": [],
   "source": [
    "df.head(2)"
   ]
  },
  {
   "cell_type": "code",
   "execution_count": null,
   "metadata": {},
   "outputs": [],
   "source": []
  }
 ],
 "metadata": {
  "kernelspec": {
   "display_name": "Python 3",
   "language": "python",
   "name": "python3"
  },
  "language_info": {
   "codemirror_mode": {
    "name": "ipython",
    "version": 3
   },
   "file_extension": ".py",
   "mimetype": "text/x-python",
   "name": "python",
   "nbconvert_exporter": "python",
   "pygments_lexer": "ipython3",
   "version": "3.7.6-final"
  }
 },
 "nbformat": 4,
 "nbformat_minor": 4
}